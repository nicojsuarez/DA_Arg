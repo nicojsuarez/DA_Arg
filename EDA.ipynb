{
 "cells": [
  {
   "cell_type": "markdown",
   "metadata": {},
   "source": [
    "                                       ANALISIS EXPLORATORIO DE LOS DATOS -- EDA "
   ]
  },
  {
   "cell_type": "code",
   "execution_count": 27,
   "metadata": {},
   "outputs": [],
   "source": [
    "import pandas as pd\n",
    "import numpy as np\n",
    "import matplotlib.pyplot as plt"
   ]
  },
  {
   "cell_type": "markdown",
   "metadata": {},
   "source": [
    "Abre el archivo."
   ]
  },
  {
   "cell_type": "code",
   "execution_count": 2,
   "metadata": {},
   "outputs": [
    {
     "name": "stderr",
     "output_type": "stream",
     "text": [
      "c:\\Users\\Santiago\\AppData\\Local\\Programs\\Python\\Python311\\Lib\\site-packages\\openpyxl\\styles\\stylesheet.py:226: UserWarning: Workbook contains no default style, apply openpyxl's default\n",
      "  warn(\"Workbook contains no default style, apply openpyxl's default\")\n"
     ]
    }
   ],
   "source": [
    "df_internet = pd.read_excel('PenetraciondelInternetfijoporprovinciaaccesosporcada100hogares_2917941698851677186.xlsx')"
   ]
  },
  {
   "cell_type": "markdown",
   "metadata": {},
   "source": [
    "Fijamos la informacion que tiene. "
   ]
  },
  {
   "cell_type": "code",
   "execution_count": 3,
   "metadata": {},
   "outputs": [
    {
     "name": "stdout",
     "output_type": "stream",
     "text": [
      "<class 'pandas.core.frame.DataFrame'>\n",
      "RangeIndex: 864 entries, 0 to 863\n",
      "Data columns (total 4 columns):\n",
      " #   Column                        Non-Null Count  Dtype \n",
      "---  ------                        --------------  ----- \n",
      " 0   Año                           864 non-null    int64 \n",
      " 1   Trimestre                     864 non-null    int64 \n",
      " 2   Provincia                     864 non-null    object\n",
      " 3   Accesos por cada 100 hogares  864 non-null    object\n",
      "dtypes: int64(2), object(2)\n",
      "memory usage: 27.1+ KB\n"
     ]
    }
   ],
   "source": [
    "df_internet.info()"
   ]
  },
  {
   "cell_type": "markdown",
   "metadata": {},
   "source": [
    "- Conclusion: se puede ver que contiene 4 colummnas ( año - trimestre -provinicia - accesos por cada 100 hogares). Y el archivo tiene una dimension de 27.1 KB. "
   ]
  },
  {
   "cell_type": "markdown",
   "metadata": {},
   "source": [
    "Vemos en forma de tabla atraves de pandas."
   ]
  },
  {
   "cell_type": "code",
   "execution_count": 4,
   "metadata": {},
   "outputs": [
    {
     "data": {
      "text/html": [
       "<div>\n",
       "<style scoped>\n",
       "    .dataframe tbody tr th:only-of-type {\n",
       "        vertical-align: middle;\n",
       "    }\n",
       "\n",
       "    .dataframe tbody tr th {\n",
       "        vertical-align: top;\n",
       "    }\n",
       "\n",
       "    .dataframe thead th {\n",
       "        text-align: right;\n",
       "    }\n",
       "</style>\n",
       "<table border=\"1\" class=\"dataframe\">\n",
       "  <thead>\n",
       "    <tr style=\"text-align: right;\">\n",
       "      <th></th>\n",
       "      <th>Año</th>\n",
       "      <th>Trimestre</th>\n",
       "      <th>Provincia</th>\n",
       "      <th>Accesos por cada 100 hogares</th>\n",
       "    </tr>\n",
       "  </thead>\n",
       "  <tbody>\n",
       "    <tr>\n",
       "      <th>0</th>\n",
       "      <td>2022</td>\n",
       "      <td>4</td>\n",
       "      <td>Buenos Aires</td>\n",
       "      <td>78,94</td>\n",
       "    </tr>\n",
       "    <tr>\n",
       "      <th>1</th>\n",
       "      <td>2022</td>\n",
       "      <td>4</td>\n",
       "      <td>Capital Federal</td>\n",
       "      <td>122,73</td>\n",
       "    </tr>\n",
       "    <tr>\n",
       "      <th>2</th>\n",
       "      <td>2022</td>\n",
       "      <td>4</td>\n",
       "      <td>Catamarca</td>\n",
       "      <td>65,77</td>\n",
       "    </tr>\n",
       "    <tr>\n",
       "      <th>3</th>\n",
       "      <td>2022</td>\n",
       "      <td>4</td>\n",
       "      <td>Chaco</td>\n",
       "      <td>43,62</td>\n",
       "    </tr>\n",
       "    <tr>\n",
       "      <th>4</th>\n",
       "      <td>2022</td>\n",
       "      <td>4</td>\n",
       "      <td>Chubut</td>\n",
       "      <td>85,57</td>\n",
       "    </tr>\n",
       "    <tr>\n",
       "      <th>...</th>\n",
       "      <td>...</td>\n",
       "      <td>...</td>\n",
       "      <td>...</td>\n",
       "      <td>...</td>\n",
       "    </tr>\n",
       "    <tr>\n",
       "      <th>859</th>\n",
       "      <td>2014</td>\n",
       "      <td>1</td>\n",
       "      <td>Santa Cruz</td>\n",
       "      <td>28,94</td>\n",
       "    </tr>\n",
       "    <tr>\n",
       "      <th>860</th>\n",
       "      <td>2014</td>\n",
       "      <td>1</td>\n",
       "      <td>Santa Fe</td>\n",
       "      <td>47,85</td>\n",
       "    </tr>\n",
       "    <tr>\n",
       "      <th>861</th>\n",
       "      <td>2014</td>\n",
       "      <td>1</td>\n",
       "      <td>Santiago Del Estero</td>\n",
       "      <td>16,31</td>\n",
       "    </tr>\n",
       "    <tr>\n",
       "      <th>862</th>\n",
       "      <td>2014</td>\n",
       "      <td>1</td>\n",
       "      <td>Tierra Del Fuego</td>\n",
       "      <td>63,97</td>\n",
       "    </tr>\n",
       "    <tr>\n",
       "      <th>863</th>\n",
       "      <td>2014</td>\n",
       "      <td>1</td>\n",
       "      <td>Tucumán</td>\n",
       "      <td>33,42</td>\n",
       "    </tr>\n",
       "  </tbody>\n",
       "</table>\n",
       "<p>864 rows × 4 columns</p>\n",
       "</div>"
      ],
      "text/plain": [
       "      Año  Trimestre            Provincia Accesos por cada 100 hogares\n",
       "0    2022          4         Buenos Aires                        78,94\n",
       "1    2022          4      Capital Federal                       122,73\n",
       "2    2022          4            Catamarca                        65,77\n",
       "3    2022          4                Chaco                        43,62\n",
       "4    2022          4               Chubut                        85,57\n",
       "..    ...        ...                  ...                          ...\n",
       "859  2014          1           Santa Cruz                        28,94\n",
       "860  2014          1             Santa Fe                        47,85\n",
       "861  2014          1  Santiago Del Estero                        16,31\n",
       "862  2014          1     Tierra Del Fuego                        63,97\n",
       "863  2014          1              Tucumán                        33,42\n",
       "\n",
       "[864 rows x 4 columns]"
      ]
     },
     "execution_count": 4,
     "metadata": {},
     "output_type": "execute_result"
    }
   ],
   "source": [
    "df_internet"
   ]
  },
  {
   "cell_type": "markdown",
   "metadata": {},
   "source": [
    "- Conclusion: se puede ver hay 864 registros."
   ]
  },
  {
   "cell_type": "markdown",
   "metadata": {},
   "source": [
    "-----------------------------------------------------------------------------"
   ]
  },
  {
   "cell_type": "markdown",
   "metadata": {},
   "source": [
    "## Datos faltantes"
   ]
  },
  {
   "cell_type": "code",
   "execution_count": 5,
   "metadata": {},
   "outputs": [
    {
     "name": "stdout",
     "output_type": "stream",
     "text": [
      "No hay valores faltantes en el DataFrame.\n",
      "No hay valores faltantes en 'Año'.\n",
      "No hay valores faltantes en 'Trimestre'.\n",
      "No hay valores faltantes en 'Provincia'.\n",
      "No hay valores faltantes en 'Accesos por cada 100 hogares'.\n"
     ]
    }
   ],
   "source": [
    "valores_faltantes_totales = df_internet.isna().any().any()\n",
    "if valores_faltantes_totales:\n",
    "    print(\"Hay valores faltantes en el DataFrame.\")\n",
    "else:\n",
    "    print(\"No hay valores faltantes en el DataFrame.\")\n",
    "\n",
    "# Para verificar si hay valores faltantes en columnas específicas:\n",
    "valores_faltantes_columna1 = df_internet['Año'].isna().any()\n",
    "valores_faltantes_columna2 = df_internet['Trimestre'].isna().any()\n",
    "valores_faltantes_columna3 = df_internet['Provincia'].isna().any()\n",
    "valores_faltantes_columna4 = df_internet['Accesos por cada 100 hogares'].isna().any()\n",
    "\n",
    "if valores_faltantes_columna1:\n",
    "    print(\"Hay valores faltantes en 'Año'.\")\n",
    "else:\n",
    "    print(\"No hay valores faltantes en 'Año'.\")\n",
    "\n",
    "if valores_faltantes_columna2:\n",
    "    print(\"Hay valores faltantes en 'Trimestre'.\")\n",
    "else:\n",
    "    print(\"No hay valores faltantes en 'Trimestre'.\")\n",
    "\n",
    "if valores_faltantes_columna3:\n",
    "    print(\"Hay valores faltantes en 'Provincia'.\")\n",
    "else:\n",
    "    print(\"No hay valores faltantes en 'Provincia'.\")\n",
    "\n",
    "if valores_faltantes_columna4:\n",
    "    print(\"Hay valores faltantes en 'Accesos por cada 100 hogares'.\")\n",
    "else:\n",
    "    print(\"No hay valores faltantes en 'Accesos por cada 100 hogares'.\")"
   ]
  },
  {
   "cell_type": "markdown",
   "metadata": {},
   "source": [
    "- Conclusion: no hay valores faltantes en el DataFrame. "
   ]
  },
  {
   "cell_type": "markdown",
   "metadata": {},
   "source": [
    "---------------------------------"
   ]
  },
  {
   "cell_type": "markdown",
   "metadata": {},
   "source": [
    "## Datos duplicados"
   ]
  },
  {
   "cell_type": "code",
   "execution_count": 6,
   "metadata": {},
   "outputs": [
    {
     "name": "stdout",
     "output_type": "stream",
     "text": [
      "No hay datos duplicados en el DataFrame.\n"
     ]
    }
   ],
   "source": [
    "hay_duplicados = df_internet.duplicated().any()\n",
    "\n",
    "if hay_duplicados:\n",
    "    print(\"Hay datos duplicados en el DataFrame.\")\n",
    "else:\n",
    "    print(\"No hay datos duplicados en el DataFrame.\")"
   ]
  },
  {
   "cell_type": "markdown",
   "metadata": {},
   "source": [
    "- Conclusion: No hay datos duplicados en el DataFrame."
   ]
  },
  {
   "cell_type": "markdown",
   "metadata": {},
   "source": [
    "--------------------------------------------------"
   ]
  },
  {
   "cell_type": "markdown",
   "metadata": {},
   "source": [
    "## Datos atipicos (outlaires)"
   ]
  },
  {
   "cell_type": "code",
   "execution_count": 29,
   "metadata": {},
   "outputs": [],
   "source": [
    "# Calcular el primer y tercer cuartil\n",
    "Q1 = df_internet['Accesos por cada 100 hogares'].quantile(0.25)\n",
    "Q3 = df_internet['Accesos por cada 100 hogares'].quantile(0.75)\n",
    "\n",
    "# Calcular el rango intercuartílico (IQR)\n",
    "IQR = Q3 - Q1\n"
   ]
  },
  {
   "cell_type": "code",
   "execution_count": 30,
   "metadata": {},
   "outputs": [],
   "source": [
    "\n",
    "# Definir los límites inferior y superior para identificar datos atípicos\n",
    "lower_limit = Q1 - 1.5 * IQR\n",
    "upper_limit = Q3 + 1.5 * IQR\n",
    "\n",
    "# Identificar datos atípicos\n",
    "outliers = df_internet[(df_internet['Accesos por cada 100 hogares'] < lower_limit) | (df_internet['Accesos por cada 100 hogares'] > upper_limit)]"
   ]
  },
  {
   "cell_type": "code",
   "execution_count": 31,
   "metadata": {},
   "outputs": [
    {
     "data": {
      "image/png": "[encoded data removed]",
      "text/plain": [
       "<Figure size 640x480 with 1 Axes>"
      ]
     },
     "metadata": {},
     "output_type": "display_data"
    },
    {
     "name": "stdout",
     "output_type": "stream",
     "text": [
      "Valores atípicos:\n",
      "Empty DataFrame\n",
      "Columns: [Año, Trimestre, Provincia, Accesos por cada 100 hogares]\n",
      "Index: []\n"
     ]
    }
   ],
   "source": [
    "# Visualizar un gráfico de caja\n",
    "plt.boxplot(df_internet['Accesos por cada 100 hogares'])\n",
    "plt.title(\"Gráfico de Caja de Accesos por cada 100 hogares\")\n",
    "plt.show()\n",
    "\n",
    "print(\"Valores atípicos:\")\n",
    "print(outliers)"
   ]
  },
  {
   "cell_type": "markdown",
   "metadata": {},
   "source": [
    "- Conclsuion: no hay datos atipicos. "
   ]
  },
  {
   "cell_type": "markdown",
   "metadata": {},
   "source": [
    "---------"
   ]
  },
  {
   "cell_type": "markdown",
   "metadata": {},
   "source": [
    "Informe final: \n",
    "- NO se encontraron, ni datos faltantes, ni datos duplicados, ni tampoco datos atipicos(outalires).\n",
    "\n",
    "- Se puede interprentar la respuesta de froma cualitativa ya que al no a ver anomalias en todo el **EDA**, se puede deducir que hay una respuesta **Nominal** que es que no hay errores. "
   ]
  }
 ],
 "metadata": {
  "kernelspec": {
   "display_name": "Python 3",
   "language": "python",
   "name": "python3"
  },
  "language_info": {
   "codemirror_mode": {
    "name": "ipython",
    "version": 3
   },
   "file_extension": ".py",
   "mimetype": "text/x-python",
   "name": "python",
   "nbconvert_exporter": "python",
   "pygments_lexer": "ipython3",
   "version": "3.11.3"
  }
 },
 "nbformat": 4,
 "nbformat_minor": 2
}
